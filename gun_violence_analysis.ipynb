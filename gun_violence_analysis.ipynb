{
 "cells": [
  {
   "attachments": {},
   "cell_type": "markdown",
   "metadata": {},
   "source": [
    "## Initializing"
   ]
  },
  {
   "cell_type": "code",
   "execution_count": 94,
   "metadata": {},
   "outputs": [],
   "source": [
    "import pandas as pd\n",
    "import scipy \n",
    "import matplotlib\n",
    "from matplotlib import pyplot as plt\n",
    "import numpy as np \n",
    "import seaborn as sns \n",
    "%matplotlib inline"
   ]
  },
  {
   "cell_type": "code",
   "execution_count": 95,
   "metadata": {},
   "outputs": [
    {
     "data": {
      "text/html": [
       "<div>\n",
       "<style scoped>\n",
       "    .dataframe tbody tr th:only-of-type {\n",
       "        vertical-align: middle;\n",
       "    }\n",
       "\n",
       "    .dataframe tbody tr th {\n",
       "        vertical-align: top;\n",
       "    }\n",
       "\n",
       "    .dataframe thead th {\n",
       "        text-align: right;\n",
       "    }\n",
       "</style>\n",
       "<table border=\"1\" class=\"dataframe\">\n",
       "  <thead>\n",
       "    <tr style=\"text-align: right;\">\n",
       "      <th></th>\n",
       "      <th>case</th>\n",
       "      <th>location</th>\n",
       "      <th>date</th>\n",
       "      <th>summary</th>\n",
       "      <th>fatalities</th>\n",
       "      <th>injured</th>\n",
       "      <th>total_victims</th>\n",
       "      <th>location.1</th>\n",
       "      <th>age_of_shooter</th>\n",
       "      <th>prior_signs_mental_health_issues</th>\n",
       "      <th>...</th>\n",
       "      <th>weapons_obtained_legally</th>\n",
       "      <th>where_obtained</th>\n",
       "      <th>weapon_type</th>\n",
       "      <th>weapon_details</th>\n",
       "      <th>race</th>\n",
       "      <th>gender</th>\n",
       "      <th>latitude</th>\n",
       "      <th>longitude</th>\n",
       "      <th>type</th>\n",
       "      <th>year</th>\n",
       "    </tr>\n",
       "  </thead>\n",
       "  <tbody>\n",
       "    <tr>\n",
       "      <th>0</th>\n",
       "      <td>Nashville religious school shooting</td>\n",
       "      <td>Nashville, TN</td>\n",
       "      <td>3-27-23</td>\n",
       "      <td>Audrey Hale, 28, who was a former student at t...</td>\n",
       "      <td>6</td>\n",
       "      <td>1</td>\n",
       "      <td>6</td>\n",
       "      <td>School</td>\n",
       "      <td>28</td>\n",
       "      <td>-</td>\n",
       "      <td>...</td>\n",
       "      <td>-</td>\n",
       "      <td>-</td>\n",
       "      <td>semiautomatic rifle, semiautomatic handgun</td>\n",
       "      <td>-</td>\n",
       "      <td>-</td>\n",
       "      <td>F (identified as transgender, per police)</td>\n",
       "      <td>-</td>\n",
       "      <td>-</td>\n",
       "      <td>Mass</td>\n",
       "      <td>2023</td>\n",
       "    </tr>\n",
       "    <tr>\n",
       "      <th>1</th>\n",
       "      <td>Michigan State University shooting</td>\n",
       "      <td>East Lansing, Michigan</td>\n",
       "      <td>2-13-23</td>\n",
       "      <td>Anthony D. McRae, 43, opened fire at Berkey Ha...</td>\n",
       "      <td>3</td>\n",
       "      <td>5</td>\n",
       "      <td>8</td>\n",
       "      <td>School</td>\n",
       "      <td>43</td>\n",
       "      <td>-</td>\n",
       "      <td>...</td>\n",
       "      <td>yes</td>\n",
       "      <td>-</td>\n",
       "      <td>semiautomatic handguns</td>\n",
       "      <td>-</td>\n",
       "      <td>Black</td>\n",
       "      <td>M</td>\n",
       "      <td>-</td>\n",
       "      <td>-</td>\n",
       "      <td>Mass</td>\n",
       "      <td>2023</td>\n",
       "    </tr>\n",
       "    <tr>\n",
       "      <th>2</th>\n",
       "      <td>Half Moon Bay spree shooting</td>\n",
       "      <td>Half Moon Bay, California</td>\n",
       "      <td>1-23-23</td>\n",
       "      <td>Chunli Zhao, 67, suspected of carrying out the...</td>\n",
       "      <td>7</td>\n",
       "      <td>1</td>\n",
       "      <td>8</td>\n",
       "      <td>workplace</td>\n",
       "      <td>67</td>\n",
       "      <td>-</td>\n",
       "      <td>...</td>\n",
       "      <td>-</td>\n",
       "      <td>-</td>\n",
       "      <td>semiautomatic handgun</td>\n",
       "      <td>-</td>\n",
       "      <td>Asian</td>\n",
       "      <td>M</td>\n",
       "      <td>-</td>\n",
       "      <td>-</td>\n",
       "      <td>Spree</td>\n",
       "      <td>2023</td>\n",
       "    </tr>\n",
       "    <tr>\n",
       "      <th>3</th>\n",
       "      <td>LA dance studio mass shooting</td>\n",
       "      <td>Monterey Park, California</td>\n",
       "      <td>1-21-23</td>\n",
       "      <td>Huu Can Tran, 72, fled the scene in a white va...</td>\n",
       "      <td>11</td>\n",
       "      <td>10</td>\n",
       "      <td>21</td>\n",
       "      <td>Other</td>\n",
       "      <td>72</td>\n",
       "      <td>yes</td>\n",
       "      <td>...</td>\n",
       "      <td>-</td>\n",
       "      <td>-</td>\n",
       "      <td>semiautomatic assault weapon (Details pending)</td>\n",
       "      <td>-</td>\n",
       "      <td>Asian</td>\n",
       "      <td>M</td>\n",
       "      <td>-</td>\n",
       "      <td>-</td>\n",
       "      <td>Mass</td>\n",
       "      <td>2023</td>\n",
       "    </tr>\n",
       "    <tr>\n",
       "      <th>4</th>\n",
       "      <td>Virginia Walmart shooting</td>\n",
       "      <td>Chesapeake, Virginia</td>\n",
       "      <td>11-22-22</td>\n",
       "      <td>Andre Bing, 31, who worked as a supervisor at ...</td>\n",
       "      <td>6</td>\n",
       "      <td>6</td>\n",
       "      <td>12</td>\n",
       "      <td>Workplace</td>\n",
       "      <td>31</td>\n",
       "      <td>-</td>\n",
       "      <td>...</td>\n",
       "      <td>-</td>\n",
       "      <td>-</td>\n",
       "      <td>semiautomatic handgun</td>\n",
       "      <td>-</td>\n",
       "      <td>Black</td>\n",
       "      <td>M</td>\n",
       "      <td>-</td>\n",
       "      <td>-</td>\n",
       "      <td>Mass</td>\n",
       "      <td>2022</td>\n",
       "    </tr>\n",
       "  </tbody>\n",
       "</table>\n",
       "<p>5 rows × 21 columns</p>\n",
       "</div>"
      ],
      "text/plain": [
       "                                  case                   location      date  \\\n",
       "0  Nashville religious school shooting              Nashville, TN   3-27-23   \n",
       "1   Michigan State University shooting     East Lansing, Michigan   2-13-23   \n",
       "2         Half Moon Bay spree shooting  Half Moon Bay, California   1-23-23   \n",
       "3        LA dance studio mass shooting  Monterey Park, California   1-21-23   \n",
       "4            Virginia Walmart shooting       Chesapeake, Virginia  11-22-22   \n",
       "\n",
       "                                             summary  fatalities injured  \\\n",
       "0  Audrey Hale, 28, who was a former student at t...           6       1   \n",
       "1  Anthony D. McRae, 43, opened fire at Berkey Ha...           3       5   \n",
       "2  Chunli Zhao, 67, suspected of carrying out the...           7       1   \n",
       "3  Huu Can Tran, 72, fled the scene in a white va...          11      10   \n",
       "4  Andre Bing, 31, who worked as a supervisor at ...           6       6   \n",
       "\n",
       "  total_victims location.1 age_of_shooter prior_signs_mental_health_issues  \\\n",
       "0             6     School             28                                -   \n",
       "1             8     School             43                                -   \n",
       "2             8  workplace             67                                -   \n",
       "3            21      Other             72                              yes   \n",
       "4            12  Workplace             31                                -   \n",
       "\n",
       "   ... weapons_obtained_legally where_obtained  \\\n",
       "0  ...                        -              -   \n",
       "1  ...                      yes              -   \n",
       "2  ...                        -              -   \n",
       "3  ...                        -              -   \n",
       "4  ...                        -              -   \n",
       "\n",
       "                                      weapon_type weapon_details   race  \\\n",
       "0      semiautomatic rifle, semiautomatic handgun              -      -   \n",
       "1                          semiautomatic handguns              -  Black   \n",
       "2                           semiautomatic handgun              -  Asian   \n",
       "3  semiautomatic assault weapon (Details pending)              -  Asian   \n",
       "4                           semiautomatic handgun              -  Black   \n",
       "\n",
       "                                      gender latitude longitude   type  year  \n",
       "0  F (identified as transgender, per police)        -         -   Mass  2023  \n",
       "1                                          M        -         -   Mass  2023  \n",
       "2                                          M        -         -  Spree  2023  \n",
       "3                                          M        -         -   Mass  2023  \n",
       "4                                          M        -         -   Mass  2022  \n",
       "\n",
       "[5 rows x 21 columns]"
      ]
     },
     "execution_count": 95,
     "metadata": {},
     "output_type": "execute_result"
    }
   ],
   "source": [
    "data= pd.read_csv(\"shooting-1982-2023.csv\", sep=',')\n",
    "data.head()"
   ]
  },
  {
   "attachments": {},
   "cell_type": "markdown",
   "metadata": {},
   "source": [
    "## Data types and columns"
   ]
  },
  {
   "cell_type": "code",
   "execution_count": 96,
   "metadata": {},
   "outputs": [
    {
     "data": {
      "text/plain": [
       "Index(['case', 'location', 'date', 'summary', 'fatalities', 'injured',\n",
       "       'total_victims', 'location.1', 'age_of_shooter',\n",
       "       'prior_signs_mental_health_issues', 'mental_health_details',\n",
       "       'weapons_obtained_legally', 'where_obtained', 'weapon_type',\n",
       "       'weapon_details', 'race', 'gender', 'latitude', 'longitude', 'type',\n",
       "       'year'],\n",
       "      dtype='object')"
      ]
     },
     "execution_count": 96,
     "metadata": {},
     "output_type": "execute_result"
    }
   ],
   "source": [
    "data.columns\n",
    "#Columns are 'case', 'location', 'date', 'summary', 'fatalities', 'injured', 'total_victims', 'location.1', \n",
    "#'age_of_shooter', 'prior_signs_mental_health_issues', 'mental_health_details',\n",
    "#'weapons_obtained_legally', 'where_obtained', 'weapon_type',\n",
    "# 'weapon_details', 'race', 'gender', 'latitude', 'longitude', 'type',\n",
    "# 'year']"
   ]
  },
  {
   "cell_type": "code",
   "execution_count": 97,
   "metadata": {},
   "outputs": [
    {
     "data": {
      "text/html": [
       "<div>\n",
       "<style scoped>\n",
       "    .dataframe tbody tr th:only-of-type {\n",
       "        vertical-align: middle;\n",
       "    }\n",
       "\n",
       "    .dataframe tbody tr th {\n",
       "        vertical-align: top;\n",
       "    }\n",
       "\n",
       "    .dataframe thead th {\n",
       "        text-align: right;\n",
       "    }\n",
       "</style>\n",
       "<table border=\"1\" class=\"dataframe\">\n",
       "  <thead>\n",
       "    <tr style=\"text-align: right;\">\n",
       "      <th></th>\n",
       "      <th>fatalities</th>\n",
       "      <th>year</th>\n",
       "    </tr>\n",
       "  </thead>\n",
       "  <tbody>\n",
       "    <tr>\n",
       "      <th>count</th>\n",
       "      <td>141.000000</td>\n",
       "      <td>141.000000</td>\n",
       "    </tr>\n",
       "    <tr>\n",
       "      <th>mean</th>\n",
       "      <td>7.808511</td>\n",
       "      <td>2010.382979</td>\n",
       "    </tr>\n",
       "    <tr>\n",
       "      <th>std</th>\n",
       "      <td>7.463162</td>\n",
       "      <td>10.796600</td>\n",
       "    </tr>\n",
       "    <tr>\n",
       "      <th>min</th>\n",
       "      <td>3.000000</td>\n",
       "      <td>1982.000000</td>\n",
       "    </tr>\n",
       "    <tr>\n",
       "      <th>25%</th>\n",
       "      <td>4.000000</td>\n",
       "      <td>2005.000000</td>\n",
       "    </tr>\n",
       "    <tr>\n",
       "      <th>50%</th>\n",
       "      <td>6.000000</td>\n",
       "      <td>2014.000000</td>\n",
       "    </tr>\n",
       "    <tr>\n",
       "      <th>75%</th>\n",
       "      <td>8.000000</td>\n",
       "      <td>2018.000000</td>\n",
       "    </tr>\n",
       "    <tr>\n",
       "      <th>max</th>\n",
       "      <td>58.000000</td>\n",
       "      <td>2023.000000</td>\n",
       "    </tr>\n",
       "  </tbody>\n",
       "</table>\n",
       "</div>"
      ],
      "text/plain": [
       "       fatalities         year\n",
       "count  141.000000   141.000000\n",
       "mean     7.808511  2010.382979\n",
       "std      7.463162    10.796600\n",
       "min      3.000000  1982.000000\n",
       "25%      4.000000  2005.000000\n",
       "50%      6.000000  2014.000000\n",
       "75%      8.000000  2018.000000\n",
       "max     58.000000  2023.000000"
      ]
     },
     "execution_count": 97,
     "metadata": {},
     "output_type": "execute_result"
    }
   ],
   "source": [
    "data.describe()\n",
    "# 141 rows \n",
    "# 2 quantitative columns : \n",
    "# fatalities (mean 7.8, min 3, max 58) - should be integer \n",
    "# year 1982 to 2023 - should be integer "
   ]
  },
  {
   "cell_type": "code",
   "execution_count": 98,
   "metadata": {},
   "outputs": [
    {
     "data": {
      "text/html": [
       "<div>\n",
       "<style scoped>\n",
       "    .dataframe tbody tr th:only-of-type {\n",
       "        vertical-align: middle;\n",
       "    }\n",
       "\n",
       "    .dataframe tbody tr th {\n",
       "        vertical-align: top;\n",
       "    }\n",
       "\n",
       "    .dataframe thead th {\n",
       "        text-align: right;\n",
       "    }\n",
       "</style>\n",
       "<table border=\"1\" class=\"dataframe\">\n",
       "  <thead>\n",
       "    <tr style=\"text-align: right;\">\n",
       "      <th></th>\n",
       "      <th>case</th>\n",
       "      <th>location</th>\n",
       "      <th>date</th>\n",
       "      <th>summary</th>\n",
       "      <th>injured</th>\n",
       "      <th>total_victims</th>\n",
       "      <th>location.1</th>\n",
       "      <th>age_of_shooter</th>\n",
       "      <th>prior_signs_mental_health_issues</th>\n",
       "      <th>mental_health_details</th>\n",
       "      <th>weapons_obtained_legally</th>\n",
       "      <th>where_obtained</th>\n",
       "      <th>weapon_type</th>\n",
       "      <th>weapon_details</th>\n",
       "      <th>race</th>\n",
       "      <th>gender</th>\n",
       "      <th>latitude</th>\n",
       "      <th>longitude</th>\n",
       "      <th>type</th>\n",
       "    </tr>\n",
       "  </thead>\n",
       "  <tbody>\n",
       "    <tr>\n",
       "      <th>count</th>\n",
       "      <td>141</td>\n",
       "      <td>141</td>\n",
       "      <td>141</td>\n",
       "      <td>141</td>\n",
       "      <td>141</td>\n",
       "      <td>141</td>\n",
       "      <td>141</td>\n",
       "      <td>141</td>\n",
       "      <td>141</td>\n",
       "      <td>141</td>\n",
       "      <td>141</td>\n",
       "      <td>141</td>\n",
       "      <td>141</td>\n",
       "      <td>140</td>\n",
       "      <td>141</td>\n",
       "      <td>141</td>\n",
       "      <td>141</td>\n",
       "      <td>141</td>\n",
       "      <td>141</td>\n",
       "    </tr>\n",
       "    <tr>\n",
       "      <th>unique</th>\n",
       "      <td>141</td>\n",
       "      <td>130</td>\n",
       "      <td>141</td>\n",
       "      <td>141</td>\n",
       "      <td>32</td>\n",
       "      <td>42</td>\n",
       "      <td>10</td>\n",
       "      <td>47</td>\n",
       "      <td>8</td>\n",
       "      <td>95</td>\n",
       "      <td>10</td>\n",
       "      <td>76</td>\n",
       "      <td>74</td>\n",
       "      <td>111</td>\n",
       "      <td>11</td>\n",
       "      <td>6</td>\n",
       "      <td>127</td>\n",
       "      <td>127</td>\n",
       "      <td>2</td>\n",
       "    </tr>\n",
       "    <tr>\n",
       "      <th>top</th>\n",
       "      <td>Nashville religious school shooting</td>\n",
       "      <td>Colorado Springs, Colorado</td>\n",
       "      <td>3-27-23</td>\n",
       "      <td>Audrey Hale, 28, who was a former student at t...</td>\n",
       "      <td>0</td>\n",
       "      <td>5</td>\n",
       "      <td>Other</td>\n",
       "      <td>21</td>\n",
       "      <td>Yes</td>\n",
       "      <td>-</td>\n",
       "      <td>Yes</td>\n",
       "      <td>-</td>\n",
       "      <td>One semiautomatic handgun</td>\n",
       "      <td>-</td>\n",
       "      <td>white</td>\n",
       "      <td>Male</td>\n",
       "      <td>-</td>\n",
       "      <td>-</td>\n",
       "      <td>Mass</td>\n",
       "    </tr>\n",
       "    <tr>\n",
       "      <th>freq</th>\n",
       "      <td>1</td>\n",
       "      <td>3</td>\n",
       "      <td>1</td>\n",
       "      <td>1</td>\n",
       "      <td>25</td>\n",
       "      <td>16</td>\n",
       "      <td>50</td>\n",
       "      <td>8</td>\n",
       "      <td>58</td>\n",
       "      <td>42</td>\n",
       "      <td>81</td>\n",
       "      <td>46</td>\n",
       "      <td>18</td>\n",
       "      <td>25</td>\n",
       "      <td>41</td>\n",
       "      <td>70</td>\n",
       "      <td>15</td>\n",
       "      <td>15</td>\n",
       "      <td>120</td>\n",
       "    </tr>\n",
       "  </tbody>\n",
       "</table>\n",
       "</div>"
      ],
      "text/plain": [
       "                                       case                    location  \\\n",
       "count                                   141                         141   \n",
       "unique                                  141                         130   \n",
       "top     Nashville religious school shooting  Colorado Springs, Colorado   \n",
       "freq                                      1                           3   \n",
       "\n",
       "           date                                            summary injured  \\\n",
       "count       141                                                141     141   \n",
       "unique      141                                                141      32   \n",
       "top     3-27-23  Audrey Hale, 28, who was a former student at t...       0   \n",
       "freq          1                                                  1      25   \n",
       "\n",
       "       total_victims location.1 age_of_shooter  \\\n",
       "count            141        141            141   \n",
       "unique            42         10             47   \n",
       "top                5      Other             21   \n",
       "freq              16         50              8   \n",
       "\n",
       "       prior_signs_mental_health_issues mental_health_details  \\\n",
       "count                               141                   141   \n",
       "unique                                8                    95   \n",
       "top                                 Yes                     -   \n",
       "freq                                 58                    42   \n",
       "\n",
       "       weapons_obtained_legally where_obtained                weapon_type  \\\n",
       "count                       141            141                        141   \n",
       "unique                       10             76                         74   \n",
       "top                         Yes              -  One semiautomatic handgun   \n",
       "freq                         81             46                         18   \n",
       "\n",
       "       weapon_details   race gender latitude longitude  type  \n",
       "count             140    141    141      141       141   141  \n",
       "unique            111     11      6      127       127     2  \n",
       "top                 -  white   Male        -         -  Mass  \n",
       "freq               25     41     70       15        15   120  "
      ]
     },
     "execution_count": 98,
     "metadata": {},
     "output_type": "execute_result"
    }
   ],
   "source": [
    "data.describe(include=\"O\")\n",
    "#qualitative data \n",
    "# Case : all unique 0K \n",
    "#location : 130 unique (top = Colorado Springs - 3)\n",
    "# date : 141 unique \n",
    "# summary : 141 unique \n",
    "# injured : 32 unique - should be integer \n",
    "# total victims = 42 unique - should be integer \n",
    "#location 1 : 10 unique \n",
    "# age of shooter : 47 unique - should be integer \n",
    "# signs MH - 8 unique \n",
    "# details : 95 unique \n",
    "# weapons obtained legally - 10 unique\n",
    "# where obtained - 10 unique \n",
    "# weapon type - 74 unique\n",
    "# weapon details - 111 unique\n",
    "# race - 11 unique \n",
    "#gender - 6 unique \n",
    "# type - 2 unique \n"
   ]
  },
  {
   "cell_type": "code",
   "execution_count": 99,
   "metadata": {},
   "outputs": [
    {
     "name": "stdout",
     "output_type": "stream",
     "text": [
      "<class 'pandas.core.frame.DataFrame'>\n",
      "RangeIndex: 141 entries, 0 to 140\n",
      "Data columns (total 21 columns):\n",
      " #   Column                            Non-Null Count  Dtype \n",
      "---  ------                            --------------  ----- \n",
      " 0   case                              141 non-null    object\n",
      " 1   location                          141 non-null    object\n",
      " 2   date                              141 non-null    object\n",
      " 3   summary                           141 non-null    object\n",
      " 4   fatalities                        141 non-null    int64 \n",
      " 5   injured                           141 non-null    object\n",
      " 6   total_victims                     141 non-null    object\n",
      " 7   location.1                        141 non-null    object\n",
      " 8   age_of_shooter                    141 non-null    object\n",
      " 9   prior_signs_mental_health_issues  141 non-null    object\n",
      " 10  mental_health_details             141 non-null    object\n",
      " 11  weapons_obtained_legally          141 non-null    object\n",
      " 12  where_obtained                    141 non-null    object\n",
      " 13  weapon_type                       141 non-null    object\n",
      " 14  weapon_details                    140 non-null    object\n",
      " 15  race                              141 non-null    object\n",
      " 16  gender                            141 non-null    object\n",
      " 17  latitude                          141 non-null    object\n",
      " 18  longitude                         141 non-null    object\n",
      " 19  type                              141 non-null    object\n",
      " 20  year                              141 non-null    int64 \n",
      "dtypes: int64(2), object(19)\n",
      "memory usage: 23.3+ KB\n"
     ]
    }
   ],
   "source": [
    "data.info()\n",
    "# null not recognized because all are considered objects \n",
    "## transforming columns into integers is not necessary as Tableau recognizes it automatically"
   ]
  },
  {
   "attachments": {},
   "cell_type": "markdown",
   "metadata": {},
   "source": [
    "## Shooter profile"
   ]
  },
  {
   "attachments": {},
   "cell_type": "markdown",
   "metadata": {},
   "source": [
    "### Gender"
   ]
  },
  {
   "cell_type": "code",
   "execution_count": 100,
   "metadata": {},
   "outputs": [
    {
     "data": {
      "text/plain": [
       "Male                                         70\n",
       "M                                            65\n",
       "Male & Female                                 2\n",
       "Female                                        2\n",
       "F (identified as transgender, per police)     1\n",
       "F                                             1\n",
       "Name: gender, dtype: int64"
      ]
     },
     "execution_count": 100,
     "metadata": {},
     "output_type": "execute_result"
    }
   ],
   "source": [
    "data['gender'].value_counts()\n",
    "# change Male to M, Female to F "
   ]
  },
  {
   "cell_type": "code",
   "execution_count": 101,
   "metadata": {},
   "outputs": [
    {
     "data": {
      "text/plain": [
       "M                                            135\n",
       "F                                              3\n",
       "Male & Female                                  2\n",
       "F (identified as transgender, per police)      1\n",
       "Name: gender, dtype: int64"
      ]
     },
     "execution_count": 101,
     "metadata": {},
     "output_type": "execute_result"
    }
   ],
   "source": [
    "# We noticed there are 6 unique values in gender. \n",
    "data['gender']=data[\"gender\"].map({'Male':'M', 'Female':'F', 'M': 'M', 'Male & Female': 'Male & Female', 'F (identified as transgender, per police)':'F (identified as transgender, per police)', 'F':'F'})\n",
    "data['gender'].value_counts()"
   ]
  },
  {
   "attachments": {},
   "cell_type": "markdown",
   "metadata": {},
   "source": [
    "### Age"
   ]
  },
  {
   "cell_type": "code",
   "execution_count": 102,
   "metadata": {},
   "outputs": [
    {
     "data": {
      "text/plain": [
       "array(['28', '43', '67', '72', '31', '22', '15', '20', '21', '70', '23',\n",
       "       '45', '18', '-', '57', '19', '44', '51', '36', '24', '40', '32',\n",
       "       '46', '26', '54', '29', '38', '17', '47', '37', '64', '39', '25',\n",
       "       '33', '27', '34', '42', '59', '41', '52', '16', '48', '66', '11',\n",
       "       '35', '55', '50'], dtype=object)"
      ]
     },
     "execution_count": 102,
     "metadata": {},
     "output_type": "execute_result"
    }
   ],
   "source": [
    "data['age_of_shooter'].value_counts()\n",
    "data['age_of_shooter'].unique()\n",
    "# 2 rows have '-' as a value"
   ]
  },
  {
   "cell_type": "code",
   "execution_count": 103,
   "metadata": {},
   "outputs": [
    {
     "data": {
      "text/html": [
       "<div>\n",
       "<style scoped>\n",
       "    .dataframe tbody tr th:only-of-type {\n",
       "        vertical-align: middle;\n",
       "    }\n",
       "\n",
       "    .dataframe tbody tr th {\n",
       "        vertical-align: top;\n",
       "    }\n",
       "\n",
       "    .dataframe thead th {\n",
       "        text-align: right;\n",
       "    }\n",
       "</style>\n",
       "<table border=\"1\" class=\"dataframe\">\n",
       "  <thead>\n",
       "    <tr style=\"text-align: right;\">\n",
       "      <th></th>\n",
       "      <th>case</th>\n",
       "      <th>location</th>\n",
       "      <th>date</th>\n",
       "      <th>summary</th>\n",
       "      <th>fatalities</th>\n",
       "      <th>injured</th>\n",
       "      <th>total_victims</th>\n",
       "      <th>location.1</th>\n",
       "      <th>age_of_shooter</th>\n",
       "      <th>prior_signs_mental_health_issues</th>\n",
       "      <th>...</th>\n",
       "      <th>weapons_obtained_legally</th>\n",
       "      <th>where_obtained</th>\n",
       "      <th>weapon_type</th>\n",
       "      <th>weapon_details</th>\n",
       "      <th>race</th>\n",
       "      <th>gender</th>\n",
       "      <th>latitude</th>\n",
       "      <th>longitude</th>\n",
       "      <th>type</th>\n",
       "      <th>year</th>\n",
       "    </tr>\n",
       "  </thead>\n",
       "  <tbody>\n",
       "    <tr>\n",
       "      <th>15</th>\n",
       "      <td>Sacramento County church shooting</td>\n",
       "      <td>Sacramento, California</td>\n",
       "      <td>2-28-22</td>\n",
       "      <td>\"A man believed to be meeting his three childr...</td>\n",
       "      <td>4</td>\n",
       "      <td>0</td>\n",
       "      <td>4</td>\n",
       "      <td>Religious</td>\n",
       "      <td>-</td>\n",
       "      <td>-</td>\n",
       "      <td>...</td>\n",
       "      <td>-</td>\n",
       "      <td>-</td>\n",
       "      <td>semiautomatic rifle</td>\n",
       "      <td>AR-15-style \"ghost gun\"</td>\n",
       "      <td>-</td>\n",
       "      <td>M</td>\n",
       "      <td>38.60111019</td>\n",
       "      <td>-121.4189659</td>\n",
       "      <td>Mass</td>\n",
       "      <td>2022</td>\n",
       "    </tr>\n",
       "    <tr>\n",
       "      <th>24</th>\n",
       "      <td>Jersey City kosher market shooting</td>\n",
       "      <td>Jersey City, New Jersey</td>\n",
       "      <td>12-10-19</td>\n",
       "      <td>David N. Anderson, 47, and Francine Graham, 50...</td>\n",
       "      <td>4</td>\n",
       "      <td>3</td>\n",
       "      <td>7</td>\n",
       "      <td>Other</td>\n",
       "      <td>-</td>\n",
       "      <td>-</td>\n",
       "      <td>...</td>\n",
       "      <td>-</td>\n",
       "      <td>-</td>\n",
       "      <td>semiautomatic rifle; shotgun; semiautomatic ha...</td>\n",
       "      <td>AR-15-style rifle; Mossberg 12-gauge shotgun; ...</td>\n",
       "      <td>Black</td>\n",
       "      <td>Male &amp; Female</td>\n",
       "      <td>40.707363</td>\n",
       "      <td>-74.083609</td>\n",
       "      <td>Spree</td>\n",
       "      <td>2019</td>\n",
       "    </tr>\n",
       "  </tbody>\n",
       "</table>\n",
       "<p>2 rows × 21 columns</p>\n",
       "</div>"
      ],
      "text/plain": [
       "                                  case                 location      date  \\\n",
       "15   Sacramento County church shooting   Sacramento, California   2-28-22   \n",
       "24  Jersey City kosher market shooting  Jersey City, New Jersey  12-10-19   \n",
       "\n",
       "                                              summary  fatalities injured  \\\n",
       "15  \"A man believed to be meeting his three childr...           4       0   \n",
       "24  David N. Anderson, 47, and Francine Graham, 50...           4       3   \n",
       "\n",
       "   total_victims location.1 age_of_shooter prior_signs_mental_health_issues  \\\n",
       "15             4  Religious              -                                -   \n",
       "24             7      Other              -                                -   \n",
       "\n",
       "    ... weapons_obtained_legally where_obtained  \\\n",
       "15  ...                        -              -   \n",
       "24  ...                        -              -   \n",
       "\n",
       "                                          weapon_type  \\\n",
       "15                                semiautomatic rifle   \n",
       "24  semiautomatic rifle; shotgun; semiautomatic ha...   \n",
       "\n",
       "                                       weapon_details   race         gender  \\\n",
       "15                            AR-15-style \"ghost gun\"      -              M   \n",
       "24  AR-15-style rifle; Mossberg 12-gauge shotgun; ...  Black  Male & Female   \n",
       "\n",
       "       latitude     longitude   type  year  \n",
       "15  38.60111019  -121.4189659   Mass  2022  \n",
       "24    40.707363    -74.083609  Spree  2019  \n",
       "\n",
       "[2 rows x 21 columns]"
      ]
     },
     "execution_count": 103,
     "metadata": {},
     "output_type": "execute_result"
    }
   ],
   "source": [
    "data.loc[data['age_of_shooter']=='-']"
   ]
  },
  {
   "cell_type": "code",
   "execution_count": 104,
   "metadata": {},
   "outputs": [
    {
     "data": {
      "image/png": "[encoded data removed]",
      "text/plain": [
       "<Figure size 640x480 with 1 Axes>"
      ]
     },
     "metadata": {},
     "output_type": "display_data"
    }
   ],
   "source": [
    "sns.histplot(data=data, x='age_of_shooter', stat='percent', bins=10)\n",
    "sns.set_style('darkgrid')\n",
    "plt.xlabel('Age')\n",
    "plt.ylabel('Count')\n",
    "plt.title('Distribution of the age of shooters')\n",
    "plt.show()"
   ]
  },
  {
   "cell_type": "code",
   "execution_count": 105,
   "metadata": {},
   "outputs": [],
   "source": [
    "# possible improvement : create bins ourselves \n",
    "# other bonus : find information regarding missing values\n",
    "#df.loc[df[\"Age\"] <= list_quart[0] , \"Age_Category\"] = \"Under 30\""
   ]
  },
  {
   "attachments": {},
   "cell_type": "markdown",
   "metadata": {},
   "source": [
    "### Race"
   ]
  },
  {
   "cell_type": "code",
   "execution_count": 106,
   "metadata": {},
   "outputs": [
    {
     "data": {
      "text/plain": [
       "white              41\n",
       "White              31\n",
       "Black              16\n",
       "-                  13\n",
       "Latino             11\n",
       "Asian              10\n",
       "black               9\n",
       "Other               5\n",
       "Native American     3\n",
       "White               1\n",
       "unclear             1\n",
       "Name: race, dtype: int64"
      ]
     },
     "execution_count": 106,
     "metadata": {},
     "output_type": "execute_result"
    }
   ],
   "source": [
    "data['race'].value_counts()\n",
    "#data['race'].unique()"
   ]
  },
  {
   "cell_type": "code",
   "execution_count": 107,
   "metadata": {},
   "outputs": [
    {
     "data": {
      "text/plain": [
       "array(['-', 'Black', 'Asian', 'White', 'Latino', 'Other', 'White ',\n",
       "       'Native American', 'Unknown'], dtype=object)"
      ]
     },
     "execution_count": 107,
     "metadata": {},
     "output_type": "execute_result"
    }
   ],
   "source": [
    "data.loc[(data[\"race\"]== 'white'), \"race\"] = \"White\"\n",
    "data.loc[(data[\"race\"]== 'black'), \"race\"] = \"Black\"\n",
    "data.loc[(data[\"race\"]== 'unclear'), \"race\"] = \"Unknown\"\n",
    "data['race'].unique()"
   ]
  },
  {
   "cell_type": "code",
   "execution_count": 108,
   "metadata": {},
   "outputs": [
    {
     "data": {
      "text/plain": [
       "White              73\n",
       "Black              25\n",
       "Unknown            14\n",
       "Latino             11\n",
       "Asian              10\n",
       "Other               5\n",
       "Native American     3\n",
       "Name: race, dtype: int64"
      ]
     },
     "execution_count": 108,
     "metadata": {},
     "output_type": "execute_result"
    }
   ],
   "source": [
    "data.loc[(data[\"race\"]== '-'), \"race\"] = \"Unknown\"\n",
    "data.loc[(data[\"race\"]== 'White '), \"race\"] = \"White\"\n",
    "data['race'].value_counts()"
   ]
  },
  {
   "attachments": {},
   "cell_type": "markdown",
   "metadata": {},
   "source": [
    "### Mental health"
   ]
  },
  {
   "cell_type": "code",
   "execution_count": 109,
   "metadata": {},
   "outputs": [
    {
     "data": {
      "text/plain": [
       "Yes         0.411348\n",
       "-           0.198582\n",
       "Unclear     0.163121\n",
       "No          0.120567\n",
       "yes         0.056738\n",
       "TBD         0.035461\n",
       "Unknown     0.007092\n",
       "Unclear     0.007092\n",
       "Name: prior_signs_mental_health_issues, dtype: float64"
      ]
     },
     "execution_count": 109,
     "metadata": {},
     "output_type": "execute_result"
    }
   ],
   "source": [
    "data['prior_signs_mental_health_issues'].value_counts(normalize=True)\n",
    "#data['prior_signs_mental_health_issues'].unique()\n"
   ]
  },
  {
   "cell_type": "code",
   "execution_count": 110,
   "metadata": {},
   "outputs": [
    {
     "data": {
      "text/plain": [
       "Yes        0.468085\n",
       "Unknown    0.205674\n",
       "Unclear    0.205674\n",
       "No         0.120567\n",
       "Name: prior_signs_mental_health_issues, dtype: float64"
      ]
     },
     "execution_count": 110,
     "metadata": {},
     "output_type": "execute_result"
    }
   ],
   "source": [
    "data.loc[(data[\"prior_signs_mental_health_issues\"]== 'yes'), \"prior_signs_mental_health_issues\"] = \"Yes\"\n",
    "data.loc[(data[\"prior_signs_mental_health_issues\"]== '-'), \"prior_signs_mental_health_issues\"] = \"Unknown\"\n",
    "data.loc[(data[\"prior_signs_mental_health_issues\"]== 'TBD'), \"prior_signs_mental_health_issues\"] = \"Unclear\"\n",
    "data.loc[(data[\"prior_signs_mental_health_issues\"]== 'Unclear '), \"prior_signs_mental_health_issues\"] = \"Unclear\"\n",
    "data['prior_signs_mental_health_issues'].value_counts(normalize=True)"
   ]
  },
  {
   "attachments": {},
   "cell_type": "markdown",
   "metadata": {},
   "source": [
    "## Shooting information"
   ]
  },
  {
   "attachments": {},
   "cell_type": "markdown",
   "metadata": {},
   "source": [
    "### Geographical location (city, state)"
   ]
  },
  {
   "cell_type": "code",
   "execution_count": 111,
   "metadata": {},
   "outputs": [
    {
     "data": {
      "text/plain": [
       "array(['Nashville, TN', 'East Lansing, Michigan',\n",
       "       'Half Moon Bay, California', 'Monterey Park, California',\n",
       "       'Chesapeake, Virginia', 'Colorado Springs, Colorado',\n",
       "       'Charlottesville, Virginia', 'Hedingham, North Carolina',\n",
       "       'Greenwood, Indiana', 'Highland Park, Illinois',\n",
       "       'Birmingham, Alabama', 'Smithsburg, Maryland', 'Tulsa, Oklahoma',\n",
       "       'Uvalde, Texas', 'Buffalo, New York', 'Sacramento, California',\n",
       "       'Oxford, Michigan', 'San Jose, California',\n",
       "       'Indianapolis, Indiana', 'Orange, California', 'Boulder, Colorado',\n",
       "       'Atlanta, Georgia', 'Springfield, Missouri',\n",
       "       'Milwaukee, Wisconsin', 'Jersey City, New Jersey',\n",
       "       'Pensacola, Florida', 'Odessa, Texas', 'Dayton, Ohio',\n",
       "       'El Paso, Texas', 'Gilroy, California', 'Virginia Beach, Virginia',\n",
       "       'Aurora, Illinois', 'State College, Pennsylvania',\n",
       "       'Sebring, Florida', 'Chicago, Illinois',\n",
       "       'Thousand Oaks, California', 'Pittsburgh, Pennsylvania',\n",
       "       'Perryman, Maryland', 'Bakersfield, California',\n",
       "       'Cincinnati, Ohio', 'Annapolis, Maryland', 'Santa Fe, Texas',\n",
       "       'Nashville, Tennessee', 'Yountville, California',\n",
       "       'Parkland, Florida', 'Melcroft, Pennsylvania',\n",
       "       'Rancho Tehama, California', 'Sutherland Springs, Texas',\n",
       "       'Thornton, Colorado', 'Edgewood, Maryland', 'Las Vegas, Nevada',\n",
       "       'San Francisco, California', 'Tunkhannock, Pennsylvania',\n",
       "       'Orlando, Florida', 'Kirkersville, Ohio', 'Fresno, California',\n",
       "       'Fort Lauderdale, Florida', 'Burlington, Washington',\n",
       "       'Baton Rouge, Lousiana', 'Dallas, Texas', 'Hesston, Kansas',\n",
       "       'Kalamazoo County, Michigan', 'San Bernardino, California',\n",
       "       'Roseburg, Oregon', 'Chattanooga, Tennessee',\n",
       "       'Charleston, South Carolina', 'Menasha, Wisconsin',\n",
       "       'Marysville, Washington', 'Santa Barbara, California',\n",
       "       'Fort Hood, Texas', 'Alturas, California', 'Washington, D.C.',\n",
       "       'Hialeah, Florida', 'Santa Monica, California',\n",
       "       'Federal Way, Washington', 'Herkimer County, New York',\n",
       "       'Newtown, Connecticut', 'Minneapolis, Minnesota',\n",
       "       'Oak Creek, Wisconsin', 'Aurora, Colorado', 'Seattle, Washington',\n",
       "       'Oakland, California', 'Norcross, Georgia',\n",
       "       'Seal Beach, California', 'Carson City, Nevada', 'Tucson, Arizona',\n",
       "       'Manchester, Connecticut', 'Parkland, Washington',\n",
       "       'Binghamton, New York', 'Carthage, North Carolina',\n",
       "       'Henderson, Kentucky', 'DeKalb, Illinois', 'Kirkwood, Missouri',\n",
       "       'Omaha, Nebraska', 'Crandon, Wisconsin', 'Blacksburg, Virginia',\n",
       "       'Salt Lake City, Utah', 'Lancaster County, Pennsylvania',\n",
       "       'Goleta, California', 'Red Lake, Minnesota',\n",
       "       'Brookfield, Wisconsin', 'Columbus, Ohio', 'Meridian, Mississippi',\n",
       "       'Melrose Park, Illinois', 'Wakefield, Massachusetts',\n",
       "       'Tampa, Florida', 'Honolulu, Hawaii', 'Fort Worth, Texas',\n",
       "       'Littleton, Colorado', 'Springfield, Oregon',\n",
       "       'Jonesboro, Arkansas', 'Newington, Connecticut',\n",
       "       'Aiken, South Carolina', 'Corpus Christi, Texas',\n",
       "       'Fairchild Air Force Base, Washington', 'Garden City, New York',\n",
       "       'Fayetteville, North Carolina', 'Watkins Glen, New York',\n",
       "       'Olivehurst, California', 'Royal Oak, Michigan', 'Iowa City, Iowa',\n",
       "       'Killeen, Texas', 'Jacksonville, Florida', 'Louisville, Kentucky',\n",
       "       'Stockton, California', 'Sunnyvale, California',\n",
       "       'Palm Bay, Florida', 'Edmond, Oklahoma', 'San Ysidro, California',\n",
       "       'Miami, Florida'], dtype=object)"
      ]
     },
     "execution_count": 111,
     "metadata": {},
     "output_type": "execute_result"
    }
   ],
   "source": [
    "data['location'].unique()"
   ]
  },
  {
   "cell_type": "code",
   "execution_count": 112,
   "metadata": {},
   "outputs": [
    {
     "name": "stderr",
     "output_type": "stream",
     "text": [
      "/var/folders/5g/jskfzb8j377fh7wl3_rxvkrc0000gn/T/ipykernel_2537/2118820420.py:1: FutureWarning: In a future version of pandas all arguments of StringMethods.split except for the argument 'pat' will be keyword-only.\n",
      "  data[['city', 'state']] = data['location'].str.split(',', 1, expand=True)\n"
     ]
    }
   ],
   "source": [
    "data[['city', 'state']] = data['location'].str.split(',', 1, expand=True)"
   ]
  },
  {
   "cell_type": "code",
   "execution_count": 113,
   "metadata": {},
   "outputs": [
    {
     "data": {
      "text/plain": [
       "array(['Nashville', 'East Lansing', 'Half Moon Bay', 'Monterey Park',\n",
       "       'Chesapeake', 'Colorado Springs', 'Charlottesville', 'Hedingham',\n",
       "       'Greenwood', 'Highland Park', 'Birmingham', 'Smithsburg', 'Tulsa',\n",
       "       'Uvalde', 'Buffalo', 'Sacramento', 'Oxford', 'San Jose',\n",
       "       'Indianapolis', 'Orange', 'Boulder', 'Atlanta', 'Springfield',\n",
       "       'Milwaukee', 'Jersey City', 'Pensacola', 'Odessa', 'Dayton',\n",
       "       'El Paso', 'Gilroy', 'Virginia Beach', 'Aurora', 'State College',\n",
       "       'Sebring', 'Chicago', 'Thousand Oaks', 'Pittsburgh', 'Perryman',\n",
       "       'Bakersfield', 'Cincinnati', 'Annapolis', 'Santa Fe', 'Yountville',\n",
       "       'Parkland', 'Melcroft', 'Rancho Tehama', 'Sutherland Springs',\n",
       "       'Thornton', 'Edgewood', 'Las Vegas', 'San Francisco',\n",
       "       'Tunkhannock', 'Orlando', 'Kirkersville', 'Fresno',\n",
       "       'Fort Lauderdale', 'Burlington', 'Baton Rouge', 'Dallas',\n",
       "       'Hesston', 'Kalamazoo County', 'San Bernardino', 'Roseburg',\n",
       "       'Chattanooga', 'Charleston', 'Menasha', 'Marysville',\n",
       "       'Santa Barbara', 'Fort Hood', 'Alturas', 'Washington', 'Hialeah',\n",
       "       'Santa Monica', 'Federal Way', 'Herkimer County', 'Newtown',\n",
       "       'Minneapolis', 'Oak Creek', 'Seattle', 'Oakland', 'Norcross',\n",
       "       'Seal Beach', 'Carson City', 'Tucson', 'Manchester', 'Binghamton',\n",
       "       'Carthage', 'Henderson', 'DeKalb', 'Kirkwood', 'Omaha', 'Crandon',\n",
       "       'Blacksburg', 'Salt Lake City', 'Lancaster County', 'Goleta',\n",
       "       'Red Lake', 'Brookfield', 'Columbus', 'Meridian', 'Melrose Park',\n",
       "       'Wakefield', 'Tampa', 'Honolulu', 'Fort Worth', 'Littleton',\n",
       "       'Jonesboro', 'Newington', 'Aiken', 'Corpus Christi',\n",
       "       'Fairchild Air Force Base', 'Garden City', 'Fayetteville',\n",
       "       'Watkins Glen', 'Olivehurst', 'Royal Oak', 'Iowa City', 'Killeen',\n",
       "       'Jacksonville', 'Louisville', 'Stockton', 'Sunnyvale', 'Palm Bay',\n",
       "       'Edmond', 'San Ysidro', 'Miami'], dtype=object)"
      ]
     },
     "execution_count": 113,
     "metadata": {},
     "output_type": "execute_result"
    }
   ],
   "source": [
    "data.loc[(data[\"state\"]== 'TN'), \"state\"] = \"Tennessee\"\n",
    "data['state'] = data['city'].str.strip()\n",
    "data['city'] = data['city'].str.strip()\n",
    "data['state']= data['state'].str.strip()\n",
    "data['state'].unique()"
   ]
  },
  {
   "attachments": {},
   "cell_type": "markdown",
   "metadata": {},
   "source": [
    "### Type (mass or not)"
   ]
  },
  {
   "cell_type": "code",
   "execution_count": 114,
   "metadata": {},
   "outputs": [
    {
     "data": {
      "text/plain": [
       "Mass     120\n",
       "Spree     21\n",
       "Name: type, dtype: int64"
      ]
     },
     "execution_count": 114,
     "metadata": {},
     "output_type": "execute_result"
    }
   ],
   "source": [
    "data['type'].value_counts()"
   ]
  },
  {
   "attachments": {},
   "cell_type": "markdown",
   "metadata": {},
   "source": [
    "### Location"
   ]
  },
  {
   "cell_type": "code",
   "execution_count": 115,
   "metadata": {},
   "outputs": [
    {
     "data": {
      "text/plain": [
       "array(['School', 'workplace', 'Other', 'Workplace', 'religious',\n",
       "       'Religious', 'Military', 'Airport', '\\nWorkplace', 'Other\\n'],\n",
       "      dtype=object)"
      ]
     },
     "execution_count": 115,
     "metadata": {},
     "output_type": "execute_result"
    }
   ],
   "source": [
    "data[\"location.1\"].unique()"
   ]
  },
  {
   "cell_type": "code",
   "execution_count": 116,
   "metadata": {},
   "outputs": [
    {
     "data": {
      "text/plain": [
       "Other        53\n",
       "Workplace    51\n",
       "School       22\n",
       "Religious     8\n",
       "Military      6\n",
       "Airport       1\n",
       "Name: location.1, dtype: int64"
      ]
     },
     "execution_count": 116,
     "metadata": {},
     "output_type": "execute_result"
    }
   ],
   "source": [
    "#location.1 column cleaning (workplace to Workplace) -\n",
    "data.loc[(data[\"location.1\"]== 'workplace'), \"location.1\"] = \"Workplace\"\n",
    "#location.1 column cleaning (religious to Religious)\n",
    "data.loc[(data[\"location.1\"]== 'religious'), \"location.1\"] = \"Religious\"\n",
    "#location.1 column cleaning (Other/n to Other)\n",
    "data.loc[(data[\"location.1\"]== 'Other\\n'), \"location.1\"] = \"Other\"\n",
    "#location.1 column cleaning (\\nWorkplace to Workplace)\n",
    "data.loc[(data[\"location.1\"]== '\\nWorkplace'), \"location.1\"] = \"Workplace\"\n",
    "data[\"location.1\"].value_counts()"
   ]
  },
  {
   "attachments": {},
   "cell_type": "markdown",
   "metadata": {},
   "source": [
    "### Fatalities"
   ]
  },
  {
   "cell_type": "code",
   "execution_count": 117,
   "metadata": {},
   "outputs": [
    {
     "data": {
      "image/png": "[encoded data removed]",
      "text/plain": [
       "<Figure size 640x480 with 1 Axes>"
      ]
     },
     "metadata": {},
     "output_type": "display_data"
    }
   ],
   "source": [
    "data_fat=pd.DataFrame(data['fatalities'])\n",
    "data_fat\n",
    "sns.histplot(data=data_fat, bins=10)\n",
    "sns.set_style('darkgrid')\n",
    "plt.xlabel('fatalities')\n",
    "plt.ylabel('Count')\n",
    "plt.title('Number of casualties')\n",
    "plt.show()\n"
   ]
  },
  {
   "attachments": {},
   "cell_type": "markdown",
   "metadata": {},
   "source": [
    "### Injured"
   ]
  },
  {
   "cell_type": "code",
   "execution_count": 118,
   "metadata": {},
   "outputs": [],
   "source": [
    "#Injured column cleaning (remove '(TK - \"fewer than 10\"')\n",
    "mask = '(TK - \"fewer than 10\"'\n",
    "data.loc[(data[\"injured\"]== mask), \"injured\"] = '10'"
   ]
  },
  {
   "cell_type": "code",
   "execution_count": 119,
   "metadata": {},
   "outputs": [
    {
     "data": {
      "text/plain": [
       "array(['1', '5', '10', '6', '25', '2', '46', '0', '17', '3', '7', '8',\n",
       "       '27', '26', '12', '4', '22', '13', '20', '546', '11', '53', '14',\n",
       "       '21', '9', '70', '31', '23', '24', '19', '29'], dtype=object)"
      ]
     },
     "execution_count": 119,
     "metadata": {},
     "output_type": "execute_result"
    }
   ],
   "source": [
    "#Injured column cleaning result\n",
    "data[\"injured\"].unique()"
   ]
  },
  {
   "attachments": {},
   "cell_type": "markdown",
   "metadata": {},
   "source": [
    "### Total victims"
   ]
  },
  {
   "cell_type": "code",
   "execution_count": 120,
   "metadata": {},
   "outputs": [
    {
     "data": {
      "text/plain": [
       "array(['6', '8', '21', '12', '30', '5', '7', '53', '3', '4', 'TK', '38',\n",
       "       '13', '11', '9', '15', '10', '32', '36', '48', '16', '34', '17',\n",
       "       '23', '46', '604', '102', '35', '18', '19', '20', '29', '82', '44',\n",
       "       '26', '55', '22', '37', '28', '25', '14', '41'], dtype=object)"
      ]
     },
     "execution_count": 120,
     "metadata": {},
     "output_type": "execute_result"
    }
   ],
   "source": [
    "#Total_victims column cleaning\n",
    "data[\"total_victims\"].unique()"
   ]
  },
  {
   "cell_type": "code",
   "execution_count": 121,
   "metadata": {},
   "outputs": [
    {
     "data": {
      "text/html": [
       "<div>\n",
       "<style scoped>\n",
       "    .dataframe tbody tr th:only-of-type {\n",
       "        vertical-align: middle;\n",
       "    }\n",
       "\n",
       "    .dataframe tbody tr th {\n",
       "        vertical-align: top;\n",
       "    }\n",
       "\n",
       "    .dataframe thead th {\n",
       "        text-align: right;\n",
       "    }\n",
       "</style>\n",
       "<table border=\"1\" class=\"dataframe\">\n",
       "  <thead>\n",
       "    <tr style=\"text-align: right;\">\n",
       "      <th></th>\n",
       "      <th>case</th>\n",
       "      <th>location</th>\n",
       "      <th>date</th>\n",
       "      <th>summary</th>\n",
       "      <th>fatalities</th>\n",
       "      <th>injured</th>\n",
       "      <th>total_victims</th>\n",
       "      <th>location.1</th>\n",
       "      <th>age_of_shooter</th>\n",
       "      <th>prior_signs_mental_health_issues</th>\n",
       "      <th>...</th>\n",
       "      <th>weapon_type</th>\n",
       "      <th>weapon_details</th>\n",
       "      <th>race</th>\n",
       "      <th>gender</th>\n",
       "      <th>latitude</th>\n",
       "      <th>longitude</th>\n",
       "      <th>type</th>\n",
       "      <th>year</th>\n",
       "      <th>city</th>\n",
       "      <th>state</th>\n",
       "    </tr>\n",
       "  </thead>\n",
       "  <tbody>\n",
       "    <tr>\n",
       "      <th>12</th>\n",
       "      <td>Tulsa medical center shooting</td>\n",
       "      <td>Tulsa, Oklahoma</td>\n",
       "      <td>6-1-22</td>\n",
       "      <td>Michael Louis, 45, killed four, including two ...</td>\n",
       "      <td>4</td>\n",
       "      <td>10</td>\n",
       "      <td>TK</td>\n",
       "      <td>Workplace</td>\n",
       "      <td>45</td>\n",
       "      <td>Unknown</td>\n",
       "      <td>...</td>\n",
       "      <td>semiautomatic rifle; semiautomatic handgun</td>\n",
       "      <td>AR-15 style rifle</td>\n",
       "      <td>Black</td>\n",
       "      <td>M</td>\n",
       "      <td>-</td>\n",
       "      <td>-</td>\n",
       "      <td>Mass</td>\n",
       "      <td>2022</td>\n",
       "      <td>Tulsa</td>\n",
       "      <td>Tulsa</td>\n",
       "    </tr>\n",
       "  </tbody>\n",
       "</table>\n",
       "<p>1 rows × 23 columns</p>\n",
       "</div>"
      ],
      "text/plain": [
       "                             case         location    date  \\\n",
       "12  Tulsa medical center shooting  Tulsa, Oklahoma  6-1-22   \n",
       "\n",
       "                                              summary  fatalities injured  \\\n",
       "12  Michael Louis, 45, killed four, including two ...           4      10   \n",
       "\n",
       "   total_victims location.1 age_of_shooter prior_signs_mental_health_issues  \\\n",
       "12            TK  Workplace             45                          Unknown   \n",
       "\n",
       "    ...                                 weapon_type     weapon_details   race  \\\n",
       "12  ...  semiautomatic rifle; semiautomatic handgun  AR-15 style rifle  Black   \n",
       "\n",
       "   gender latitude longitude  type  year   city  state  \n",
       "12      M        -         -  Mass  2022  Tulsa  Tulsa  \n",
       "\n",
       "[1 rows x 23 columns]"
      ]
     },
     "execution_count": 121,
     "metadata": {},
     "output_type": "execute_result"
    }
   ],
   "source": [
    "#need to modify TK by an integer\n",
    "data.loc[data[\"total_victims\"] =='TK']"
   ]
  },
  {
   "cell_type": "code",
   "execution_count": 122,
   "metadata": {},
   "outputs": [
    {
     "data": {
      "text/plain": [
       "array(['6', '8', '21', '12', '30', '5', '7', '53', '3', '4', '14', '38',\n",
       "       '13', '11', '9', '15', '10', '32', '36', '48', '16', '34', '17',\n",
       "       '23', '46', '604', '102', '35', '18', '19', '20', '29', '82', '44',\n",
       "       '26', '55', '22', '37', '28', '25', '41'], dtype=object)"
      ]
     },
     "execution_count": 122,
     "metadata": {},
     "output_type": "execute_result"
    }
   ],
   "source": [
    "data.loc[(data[\"total_victims\"]== 'TK'), \"total_victims\"] = '14'\n",
    "#Modification result\n",
    "data[\"total_victims\"].unique()"
   ]
  },
  {
   "attachments": {},
   "cell_type": "markdown",
   "metadata": {},
   "source": [
    "### Weapons obtained legally"
   ]
  },
  {
   "cell_type": "code",
   "execution_count": 128,
   "metadata": {},
   "outputs": [],
   "source": [
    "#weapons_obtained_legally column cleaning (- to Unknown)\n",
    "data.loc[(data[\"weapons_obtained_legally\"]== '-'), \"weapons_obtained_legally\"] = \"Unknown\"\n",
    "\n",
    "#weapons_obtained_legally column cleaning (yes to Yes)\n",
    "data.loc[(data[\"weapons_obtained_legally\"]== 'yes'), \"weapons_obtained_legally\"] = \"Yes\"\n",
    "\n",
    "#weapons_obtained_legally column cleaning (TBD to Unknown)\n",
    "data.loc[(data[\"weapons_obtained_legally\"]== 'TBD'), \"weapons_obtained_legally\"] = \"Unknown\"\n",
    "\n",
    "#weapons_obtained_legally column cleaning (\\nYes to Yes)\n",
    "data.loc[(data[\"weapons_obtained_legally\"]== '\\nYes'), \"weapons_obtained_legally\"] = \"Yes\"\n",
    "\n",
    "#weapons_obtained_legally column cleaning (Kelley passed... to Yes)\n",
    "data.loc[(data[\"weapons_obtained_legally\"]== 'Kelley passed federal criminal background checks; the US Air Force failed to provide information on his criminal history to the FBI'), \"weapons_obtained_legally\"] = \"Yes\"\n",
    "\n",
    "#weapons_obtained_legally column cleaning (Yes... to Yes)\n",
    "data.loc[(data[\"weapons_obtained_legally\"]== 'Yes (\"some of the weapons were purchased legally and some of them may not have been\")'), \"weapons_obtained_legally\"] = \"Yes\"\n",
    "\n",
    "#weapons_obtained_legally column cleaning ('Yes ' to Yes)\n",
    "data.loc[(data[\"weapons_obtained_legally\"]== 'Yes '), \"weapons_obtained_legally\"] = \"Yes\""
   ]
  },
  {
   "attachments": {},
   "cell_type": "markdown",
   "metadata": {},
   "source": [
    "## Rename columns"
   ]
  },
  {
   "cell_type": "code",
   "execution_count": 123,
   "metadata": {},
   "outputs": [
    {
     "data": {
      "text/plain": [
       "Index(['case', 'location', 'date', 'summary', 'fatalities', 'injured',\n",
       "       'total_victims', 'location.1', 'age_of_shooter',\n",
       "       'prior_signs_mental_health_issues', 'mental_health_details',\n",
       "       'weapons_obtained_legally', 'where_obtained', 'weapon_type',\n",
       "       'weapon_details', 'race', 'gender', 'latitude', 'longitude', 'type',\n",
       "       'year', 'city', 'state'],\n",
       "      dtype='object')"
      ]
     },
     "execution_count": 123,
     "metadata": {},
     "output_type": "execute_result"
    }
   ],
   "source": [
    "data.columns"
   ]
  },
  {
   "cell_type": "code",
   "execution_count": 124,
   "metadata": {},
   "outputs": [],
   "source": [
    "data.columns = ['case', 'geo_location', 'date', 'summary', 'fatalities', 'injured',\n",
    "       'total_victims', 'location', 'age_of_shooter',\n",
    "       'prior_signs_mental_health_issues', 'mental_health_details',\n",
    "       'weapons_obtained_legally', 'where_obtained', 'weapon_type',\n",
    "       'weapon_details', 'race', 'gender', 'latitude', 'longitude', 'type',\n",
    "       'year', 'city', 'state']"
   ]
  },
  {
   "cell_type": "code",
   "execution_count": 126,
   "metadata": {},
   "outputs": [],
   "source": [
    "data.drop(columns='geo_location', inplace=True)"
   ]
  },
  {
   "cell_type": "code",
   "execution_count": 131,
   "metadata": {},
   "outputs": [],
   "source": [
    "data.to_csv(\"gun_violence_cleaned_IH.csv\", sep=(';'))"
   ]
  },
  {
   "cell_type": "code",
   "execution_count": 129,
   "metadata": {},
   "outputs": [
    {
     "data": {
      "text/html": [
       "<div>\n",
       "<style scoped>\n",
       "    .dataframe tbody tr th:only-of-type {\n",
       "        vertical-align: middle;\n",
       "    }\n",
       "\n",
       "    .dataframe tbody tr th {\n",
       "        vertical-align: top;\n",
       "    }\n",
       "\n",
       "    .dataframe thead th {\n",
       "        text-align: right;\n",
       "    }\n",
       "</style>\n",
       "<table border=\"1\" class=\"dataframe\">\n",
       "  <thead>\n",
       "    <tr style=\"text-align: right;\">\n",
       "      <th></th>\n",
       "      <th>case</th>\n",
       "      <th>date</th>\n",
       "      <th>summary</th>\n",
       "      <th>fatalities</th>\n",
       "      <th>injured</th>\n",
       "      <th>total_victims</th>\n",
       "      <th>location</th>\n",
       "      <th>age_of_shooter</th>\n",
       "      <th>prior_signs_mental_health_issues</th>\n",
       "      <th>mental_health_details</th>\n",
       "      <th>...</th>\n",
       "      <th>weapon_type</th>\n",
       "      <th>weapon_details</th>\n",
       "      <th>race</th>\n",
       "      <th>gender</th>\n",
       "      <th>latitude</th>\n",
       "      <th>longitude</th>\n",
       "      <th>type</th>\n",
       "      <th>year</th>\n",
       "      <th>city</th>\n",
       "      <th>state</th>\n",
       "    </tr>\n",
       "  </thead>\n",
       "  <tbody>\n",
       "    <tr>\n",
       "      <th>0</th>\n",
       "      <td>Nashville religious school shooting</td>\n",
       "      <td>3-27-23</td>\n",
       "      <td>Audrey Hale, 28, who was a former student at t...</td>\n",
       "      <td>6</td>\n",
       "      <td>1</td>\n",
       "      <td>6</td>\n",
       "      <td>School</td>\n",
       "      <td>28</td>\n",
       "      <td>Unknown</td>\n",
       "      <td>-</td>\n",
       "      <td>...</td>\n",
       "      <td>semiautomatic rifle, semiautomatic handgun</td>\n",
       "      <td>-</td>\n",
       "      <td>Unknown</td>\n",
       "      <td>F (identified as transgender, per police)</td>\n",
       "      <td>-</td>\n",
       "      <td>-</td>\n",
       "      <td>Mass</td>\n",
       "      <td>2023</td>\n",
       "      <td>Nashville</td>\n",
       "      <td>Nashville</td>\n",
       "    </tr>\n",
       "    <tr>\n",
       "      <th>1</th>\n",
       "      <td>Michigan State University shooting</td>\n",
       "      <td>2-13-23</td>\n",
       "      <td>Anthony D. McRae, 43, opened fire at Berkey Ha...</td>\n",
       "      <td>3</td>\n",
       "      <td>5</td>\n",
       "      <td>8</td>\n",
       "      <td>School</td>\n",
       "      <td>43</td>\n",
       "      <td>Unknown</td>\n",
       "      <td>-</td>\n",
       "      <td>...</td>\n",
       "      <td>semiautomatic handguns</td>\n",
       "      <td>-</td>\n",
       "      <td>Black</td>\n",
       "      <td>M</td>\n",
       "      <td>-</td>\n",
       "      <td>-</td>\n",
       "      <td>Mass</td>\n",
       "      <td>2023</td>\n",
       "      <td>East Lansing</td>\n",
       "      <td>East Lansing</td>\n",
       "    </tr>\n",
       "    <tr>\n",
       "      <th>2</th>\n",
       "      <td>Half Moon Bay spree shooting</td>\n",
       "      <td>1-23-23</td>\n",
       "      <td>Chunli Zhao, 67, suspected of carrying out the...</td>\n",
       "      <td>7</td>\n",
       "      <td>1</td>\n",
       "      <td>8</td>\n",
       "      <td>Workplace</td>\n",
       "      <td>67</td>\n",
       "      <td>Unknown</td>\n",
       "      <td>-</td>\n",
       "      <td>...</td>\n",
       "      <td>semiautomatic handgun</td>\n",
       "      <td>-</td>\n",
       "      <td>Asian</td>\n",
       "      <td>M</td>\n",
       "      <td>-</td>\n",
       "      <td>-</td>\n",
       "      <td>Spree</td>\n",
       "      <td>2023</td>\n",
       "      <td>Half Moon Bay</td>\n",
       "      <td>Half Moon Bay</td>\n",
       "    </tr>\n",
       "    <tr>\n",
       "      <th>3</th>\n",
       "      <td>LA dance studio mass shooting</td>\n",
       "      <td>1-21-23</td>\n",
       "      <td>Huu Can Tran, 72, fled the scene in a white va...</td>\n",
       "      <td>11</td>\n",
       "      <td>10</td>\n",
       "      <td>21</td>\n",
       "      <td>Other</td>\n",
       "      <td>72</td>\n",
       "      <td>Yes</td>\n",
       "      <td>According to the LA Times, \"Two law enforcemen...</td>\n",
       "      <td>...</td>\n",
       "      <td>semiautomatic assault weapon (Details pending)</td>\n",
       "      <td>-</td>\n",
       "      <td>Asian</td>\n",
       "      <td>M</td>\n",
       "      <td>-</td>\n",
       "      <td>-</td>\n",
       "      <td>Mass</td>\n",
       "      <td>2023</td>\n",
       "      <td>Monterey Park</td>\n",
       "      <td>Monterey Park</td>\n",
       "    </tr>\n",
       "    <tr>\n",
       "      <th>4</th>\n",
       "      <td>Virginia Walmart shooting</td>\n",
       "      <td>11-22-22</td>\n",
       "      <td>Andre Bing, 31, who worked as a supervisor at ...</td>\n",
       "      <td>6</td>\n",
       "      <td>6</td>\n",
       "      <td>12</td>\n",
       "      <td>Workplace</td>\n",
       "      <td>31</td>\n",
       "      <td>Unknown</td>\n",
       "      <td>-</td>\n",
       "      <td>...</td>\n",
       "      <td>semiautomatic handgun</td>\n",
       "      <td>-</td>\n",
       "      <td>Black</td>\n",
       "      <td>M</td>\n",
       "      <td>-</td>\n",
       "      <td>-</td>\n",
       "      <td>Mass</td>\n",
       "      <td>2022</td>\n",
       "      <td>Chesapeake</td>\n",
       "      <td>Chesapeake</td>\n",
       "    </tr>\n",
       "    <tr>\n",
       "      <th>...</th>\n",
       "      <td>...</td>\n",
       "      <td>...</td>\n",
       "      <td>...</td>\n",
       "      <td>...</td>\n",
       "      <td>...</td>\n",
       "      <td>...</td>\n",
       "      <td>...</td>\n",
       "      <td>...</td>\n",
       "      <td>...</td>\n",
       "      <td>...</td>\n",
       "      <td>...</td>\n",
       "      <td>...</td>\n",
       "      <td>...</td>\n",
       "      <td>...</td>\n",
       "      <td>...</td>\n",
       "      <td>...</td>\n",
       "      <td>...</td>\n",
       "      <td>...</td>\n",
       "      <td>...</td>\n",
       "      <td>...</td>\n",
       "      <td>...</td>\n",
       "    </tr>\n",
       "    <tr>\n",
       "      <th>136</th>\n",
       "      <td>Shopping centers spree killings</td>\n",
       "      <td>23-04-1987</td>\n",
       "      <td>Retired librarian William Cruse, 59, was paran...</td>\n",
       "      <td>6</td>\n",
       "      <td>14</td>\n",
       "      <td>20</td>\n",
       "      <td>Other</td>\n",
       "      <td>59</td>\n",
       "      <td>Yes</td>\n",
       "      <td>He suffered from paranoid delusions. A judge f...</td>\n",
       "      <td>...</td>\n",
       "      <td>One rifle, one revolver, one shotgun</td>\n",
       "      <td>Sturm, Ruger Mini-14 semiautomatic rifle; 20-g...</td>\n",
       "      <td>White</td>\n",
       "      <td>M</td>\n",
       "      <td>28.0331886</td>\n",
       "      <td>-80.6429695</td>\n",
       "      <td>Spree</td>\n",
       "      <td>1987</td>\n",
       "      <td>Palm Bay</td>\n",
       "      <td>Palm Bay</td>\n",
       "    </tr>\n",
       "    <tr>\n",
       "      <th>137</th>\n",
       "      <td>United States Postal Service shooting</td>\n",
       "      <td>20-08-1986</td>\n",
       "      <td>Postal worker Patrick Sherrill, 44, opened fir...</td>\n",
       "      <td>15</td>\n",
       "      <td>6</td>\n",
       "      <td>21</td>\n",
       "      <td>Workplace</td>\n",
       "      <td>44</td>\n",
       "      <td>Unclear</td>\n",
       "      <td>He was worried he had inherited mental problem...</td>\n",
       "      <td>...</td>\n",
       "      <td>Three semiautomatic handguns</td>\n",
       "      <td>.22-caliber, two .45-caliber Colt Model 1911-A...</td>\n",
       "      <td>White</td>\n",
       "      <td>M</td>\n",
       "      <td>35.6672015</td>\n",
       "      <td>-97.42937037</td>\n",
       "      <td>Mass</td>\n",
       "      <td>1986</td>\n",
       "      <td>Edmond</td>\n",
       "      <td>Edmond</td>\n",
       "    </tr>\n",
       "    <tr>\n",
       "      <th>138</th>\n",
       "      <td>San Ysidro McDonald's massacre</td>\n",
       "      <td>18-07-1984</td>\n",
       "      <td>James Oliver Huberty, 41, opened fire in a McD...</td>\n",
       "      <td>22</td>\n",
       "      <td>19</td>\n",
       "      <td>41</td>\n",
       "      <td>Other</td>\n",
       "      <td>41</td>\n",
       "      <td>Yes</td>\n",
       "      <td>The day before the shooting, he tried to make ...</td>\n",
       "      <td>...</td>\n",
       "      <td>One semiautomatic handgun, one rifle (assault)...</td>\n",
       "      <td>9mm Browning P35 Hi-Power semiautomatic handgu...</td>\n",
       "      <td>White</td>\n",
       "      <td>M</td>\n",
       "      <td>32.5520013</td>\n",
       "      <td>-117.0430813</td>\n",
       "      <td>Mass</td>\n",
       "      <td>1984</td>\n",
       "      <td>San Ysidro</td>\n",
       "      <td>San Ysidro</td>\n",
       "    </tr>\n",
       "    <tr>\n",
       "      <th>139</th>\n",
       "      <td>Dallas nightclub shooting</td>\n",
       "      <td>29-06-1984</td>\n",
       "      <td>Abdelkrim Belachheb, 39, opened fire at an ups...</td>\n",
       "      <td>6</td>\n",
       "      <td>1</td>\n",
       "      <td>7</td>\n",
       "      <td>Other</td>\n",
       "      <td>39</td>\n",
       "      <td>Yes</td>\n",
       "      <td>During his last meal with his wife, he confess...</td>\n",
       "      <td>...</td>\n",
       "      <td>One semiautomatic handgun</td>\n",
       "      <td>9mm Smith &amp; Wesson 459 semiautomatic handgun</td>\n",
       "      <td>White</td>\n",
       "      <td>M</td>\n",
       "      <td>32.925166</td>\n",
       "      <td>-96.838676</td>\n",
       "      <td>Mass</td>\n",
       "      <td>1984</td>\n",
       "      <td>Dallas</td>\n",
       "      <td>Dallas</td>\n",
       "    </tr>\n",
       "    <tr>\n",
       "      <th>140</th>\n",
       "      <td>Welding shop shooting</td>\n",
       "      <td>20-08-1982</td>\n",
       "      <td>Junior high school teacher Carl Robert Brown, ...</td>\n",
       "      <td>8</td>\n",
       "      <td>3</td>\n",
       "      <td>11</td>\n",
       "      <td>Other</td>\n",
       "      <td>51</td>\n",
       "      <td>Yes</td>\n",
       "      <td>His second wife left him because he refused to...</td>\n",
       "      <td>...</td>\n",
       "      <td>One shotgun</td>\n",
       "      <td>Mossberg 500 Persuader pump-action shotgun wit...</td>\n",
       "      <td>White</td>\n",
       "      <td>M</td>\n",
       "      <td>25.796491</td>\n",
       "      <td>-80.226683</td>\n",
       "      <td>Mass</td>\n",
       "      <td>1982</td>\n",
       "      <td>Miami</td>\n",
       "      <td>Miami</td>\n",
       "    </tr>\n",
       "  </tbody>\n",
       "</table>\n",
       "<p>141 rows × 22 columns</p>\n",
       "</div>"
      ],
      "text/plain": [
       "                                      case        date  \\\n",
       "0      Nashville religious school shooting     3-27-23   \n",
       "1       Michigan State University shooting     2-13-23   \n",
       "2             Half Moon Bay spree shooting     1-23-23   \n",
       "3            LA dance studio mass shooting     1-21-23   \n",
       "4                Virginia Walmart shooting    11-22-22   \n",
       "..                                     ...         ...   \n",
       "136        Shopping centers spree killings  23-04-1987   \n",
       "137  United States Postal Service shooting  20-08-1986   \n",
       "138         San Ysidro McDonald's massacre  18-07-1984   \n",
       "139              Dallas nightclub shooting  29-06-1984   \n",
       "140                  Welding shop shooting  20-08-1982   \n",
       "\n",
       "                                               summary  fatalities injured  \\\n",
       "0    Audrey Hale, 28, who was a former student at t...           6       1   \n",
       "1    Anthony D. McRae, 43, opened fire at Berkey Ha...           3       5   \n",
       "2    Chunli Zhao, 67, suspected of carrying out the...           7       1   \n",
       "3    Huu Can Tran, 72, fled the scene in a white va...          11      10   \n",
       "4    Andre Bing, 31, who worked as a supervisor at ...           6       6   \n",
       "..                                                 ...         ...     ...   \n",
       "136  Retired librarian William Cruse, 59, was paran...           6      14   \n",
       "137  Postal worker Patrick Sherrill, 44, opened fir...          15       6   \n",
       "138  James Oliver Huberty, 41, opened fire in a McD...          22      19   \n",
       "139  Abdelkrim Belachheb, 39, opened fire at an ups...           6       1   \n",
       "140  Junior high school teacher Carl Robert Brown, ...           8       3   \n",
       "\n",
       "    total_victims   location age_of_shooter prior_signs_mental_health_issues  \\\n",
       "0               6     School             28                          Unknown   \n",
       "1               8     School             43                          Unknown   \n",
       "2               8  Workplace             67                          Unknown   \n",
       "3              21      Other             72                              Yes   \n",
       "4              12  Workplace             31                          Unknown   \n",
       "..            ...        ...            ...                              ...   \n",
       "136            20      Other             59                              Yes   \n",
       "137            21  Workplace             44                          Unclear   \n",
       "138            41      Other             41                              Yes   \n",
       "139             7      Other             39                              Yes   \n",
       "140            11      Other             51                              Yes   \n",
       "\n",
       "                                 mental_health_details  ...  \\\n",
       "0                                                    -  ...   \n",
       "1                                                    -  ...   \n",
       "2                                                    -  ...   \n",
       "3    According to the LA Times, \"Two law enforcemen...  ...   \n",
       "4                                                    -  ...   \n",
       "..                                                 ...  ...   \n",
       "136  He suffered from paranoid delusions. A judge f...  ...   \n",
       "137  He was worried he had inherited mental problem...  ...   \n",
       "138  The day before the shooting, he tried to make ...  ...   \n",
       "139  During his last meal with his wife, he confess...  ...   \n",
       "140  His second wife left him because he refused to...  ...   \n",
       "\n",
       "                                           weapon_type  \\\n",
       "0           semiautomatic rifle, semiautomatic handgun   \n",
       "1                               semiautomatic handguns   \n",
       "2                                semiautomatic handgun   \n",
       "3       semiautomatic assault weapon (Details pending)   \n",
       "4                                semiautomatic handgun   \n",
       "..                                                 ...   \n",
       "136               One rifle, one revolver, one shotgun   \n",
       "137                       Three semiautomatic handguns   \n",
       "138  One semiautomatic handgun, one rifle (assault)...   \n",
       "139                          One semiautomatic handgun   \n",
       "140                                        One shotgun   \n",
       "\n",
       "                                        weapon_details     race  \\\n",
       "0                                                    -  Unknown   \n",
       "1                                                    -    Black   \n",
       "2                                                    -    Asian   \n",
       "3                                                    -    Asian   \n",
       "4                                                    -    Black   \n",
       "..                                                 ...      ...   \n",
       "136  Sturm, Ruger Mini-14 semiautomatic rifle; 20-g...    White   \n",
       "137  .22-caliber, two .45-caliber Colt Model 1911-A...    White   \n",
       "138  9mm Browning P35 Hi-Power semiautomatic handgu...    White   \n",
       "139       9mm Smith & Wesson 459 semiautomatic handgun    White   \n",
       "140  Mossberg 500 Persuader pump-action shotgun wit...    White   \n",
       "\n",
       "                                        gender    latitude     longitude  \\\n",
       "0    F (identified as transgender, per police)           -             -   \n",
       "1                                            M           -             -   \n",
       "2                                            M           -             -   \n",
       "3                                            M           -             -   \n",
       "4                                            M           -             -   \n",
       "..                                         ...         ...           ...   \n",
       "136                                          M  28.0331886   -80.6429695   \n",
       "137                                          M  35.6672015  -97.42937037   \n",
       "138                                          M  32.5520013  -117.0430813   \n",
       "139                                          M   32.925166    -96.838676   \n",
       "140                                          M   25.796491    -80.226683   \n",
       "\n",
       "      type  year           city          state  \n",
       "0     Mass  2023      Nashville      Nashville  \n",
       "1     Mass  2023   East Lansing   East Lansing  \n",
       "2    Spree  2023  Half Moon Bay  Half Moon Bay  \n",
       "3     Mass  2023  Monterey Park  Monterey Park  \n",
       "4     Mass  2022     Chesapeake     Chesapeake  \n",
       "..     ...   ...            ...            ...  \n",
       "136  Spree  1987       Palm Bay       Palm Bay  \n",
       "137   Mass  1986         Edmond         Edmond  \n",
       "138   Mass  1984     San Ysidro     San Ysidro  \n",
       "139   Mass  1984         Dallas         Dallas  \n",
       "140   Mass  1982          Miami          Miami  \n",
       "\n",
       "[141 rows x 22 columns]"
      ]
     },
     "execution_count": 129,
     "metadata": {},
     "output_type": "execute_result"
    }
   ],
   "source": [
    "data"
   ]
  },
  {
   "cell_type": "code",
   "execution_count": null,
   "metadata": {},
   "outputs": [],
   "source": []
  }
 ],
 "metadata": {
  "kernelspec": {
   "display_name": "py39",
   "language": "python",
   "name": "python3"
  },
  "language_info": {
   "codemirror_mode": {
    "name": "ipython",
    "version": 3
   },
   "file_extension": ".py",
   "mimetype": "text/x-python",
   "name": "python",
   "nbconvert_exporter": "python",
   "pygments_lexer": "ipython3",
   "version": "3.9.16"
  },
  "orig_nbformat": 4
 },
 "nbformat": 4,
 "nbformat_minor": 2
}
